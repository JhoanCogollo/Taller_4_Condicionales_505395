{
  "nbformat": 4,
  "nbformat_minor": 0,
  "metadata": {
    "colab": {
      "provenance": [],
      "authorship_tag": "ABX9TyMfzdAiPn0kMwIiBYLskeHr",
      "include_colab_link": true
    },
    "kernelspec": {
      "name": "python3",
      "display_name": "Python 3"
    },
    "language_info": {
      "name": "python"
    }
  },
  "cells": [
    {
      "cell_type": "markdown",
      "metadata": {
        "id": "view-in-github",
        "colab_type": "text"
      },
      "source": [
        "<a href=\"https://colab.research.google.com/github/JhoanCogollo/Taller_4_Condicionales_505395/blob/main/Taller_4_Condicionales.ipynb\" target=\"_parent\"><img src=\"https://colab.research.google.com/assets/colab-badge.svg\" alt=\"Open In Colab\"/></a>"
      ]
    },
    {
      "cell_type": "markdown",
      "source": [
        "JHOAN COGOLLO-505395-\n",
        "Jhoan.cogolloj@upb.edu.co\n",
        "-ING.Civil"
      ],
      "metadata": {
        "id": "z90n5FAXgrD5"
      }
    },
    {
      "cell_type": "markdown",
      "source": [
        "1.Calculadora de calificacionesEscribe un programa en Pythonque solicite al usuario ingresar una calificación numérica (de 0 a 5) y  luego  muestre  un  mensaje  que  diga  si  el  estudiante  aprobó  o  reprobó.  UDliza  una  estructura selecDva doble (if -else)."
      ],
      "metadata": {
        "id": "siRrfh8xiHBU"
      }
    },
    {
      "cell_type": "code",
      "execution_count": null,
      "metadata": {
        "colab": {
          "base_uri": "https://localhost:8080/"
        },
        "id": "f6OVWpAegeFe",
        "outputId": "319cc60c-aeec-486d-b752-c5755eab78e0"
      },
      "outputs": [
        {
          "output_type": "stream",
          "name": "stdout",
          "text": [
            "Digite la nota obtenida (0 a 5): 3\n",
            "El estudiantes aprobó, con nota de:  3.0\n"
          ]
        }
      ],
      "source": [
        "#Programa para calcular nota, y decir si aprobó o no\n",
        "\n",
        "nota=float(input(\"Digite la nota obtenida (0 a 5): \"))\n",
        "\n",
        "if nota >= 3:\n",
        "  print(\"El estudiantes aprobó, con nota de: \", nota)\n",
        "else:\n",
        "  print(\"El estudiante No aprobó, con nota de:\", nota)"
      ]
    },
    {
      "cell_type": "markdown",
      "source": [
        "2.Verificar si un número es positivo, negativo o ceroEscribe  un  programa  en Pythonque  solicite  al  usuario  ingresar  un  número  y  luego  determine  e imprima si el número es positivo, negativo o cero utilizando estructuras selectiuvas dobles (if -else)."
      ],
      "metadata": {
        "id": "UpDYaXX5in-B"
      }
    },
    {
      "cell_type": "code",
      "source": [
        "#Programa que me dice si el numero digitado es negativo o positivo\n",
        "\n",
        "num=float(input(\"Digite un número cualquiera: \"))\n",
        "print(\"Su número es: \", num)\n",
        "\n",
        "if num > 0:\n",
        " print(\"El número digitado es positivo\")\n",
        "else:\n",
        "  print(\"El número digitado es negativo\")"
      ],
      "metadata": {
        "colab": {
          "base_uri": "https://localhost:8080/"
        },
        "id": "hpPQplfSirXx",
        "outputId": "1af87b54-e856-4144-bf08-09dc1c19f640"
      },
      "execution_count": null,
      "outputs": [
        {
          "output_type": "stream",
          "name": "stdout",
          "text": [
            "Digite un número cualquiera: 1\n",
            "Su número es:  1.0\n",
            "El número digitado es positivo\n"
          ]
        }
      ]
    },
    {
      "cell_type": "markdown",
      "source": [
        "3.Validación de contraseña Escribe un programa en Pythonque solicite al usuario ingresar una contraseña. Si la contraseña es \"python123\",  el  programa  debe  imprimir  \"Contraseña  válida\".  De  lo  contrario,  debe  imprimir \"Contraseña incorrecta\". Utiliza una estructura selectiva doble (if -else)."
      ],
      "metadata": {
        "id": "blodeL7JjwBi"
      }
    },
    {
      "cell_type": "code",
      "source": [
        "#Programa que me dice si la contraseña es valida o no\n",
        "\n",
        "contra=str(input(\"Digite la contraseña: \"))\n",
        "if contra == \"python123\":\n",
        "  print(\"Contraseña válida\")\n",
        "else:\n",
        "  print(\"Contraseña incorrecta\")"
      ],
      "metadata": {
        "colab": {
          "base_uri": "https://localhost:8080/"
        },
        "id": "N5OwDIPyjvwj",
        "outputId": "3d729bc3-873c-4659-8ebd-dd55b0f75a5c"
      },
      "execution_count": null,
      "outputs": [
        {
          "output_type": "stream",
          "name": "stdout",
          "text": [
            "Digite la contraseña: python123\n",
            "Contraseña válida\n"
          ]
        }
      ]
    },
    {
      "cell_type": "markdown",
      "source": [
        "4.Determinar si un número es par o impar utilizando un programa en Python que solicite al usuario ingresar un número y determine e imprima si el número es par o impar utilizando una estructura selectiva doble (if -else)."
      ],
      "metadata": {
        "id": "a-wK-6dzkys8"
      }
    },
    {
      "cell_type": "code",
      "source": [
        "#Programa que me dice si el numero digitado es impar o no.\n",
        "\n",
        "numero=float(input(\"Digite un número: \"))\n",
        "\n",
        "if numero  %2 == 0:\n",
        "  print(\"El número digitado es par\")\n",
        "else:\n",
        "  print(\"El número digitado es impar\")"
      ],
      "metadata": {
        "colab": {
          "base_uri": "https://localhost:8080/"
        },
        "id": "8-ibNB4SkzJc",
        "outputId": "1a20650f-d2ff-4136-fa5f-e93d0d3154fa"
      },
      "execution_count": null,
      "outputs": [
        {
          "output_type": "stream",
          "name": "stdout",
          "text": [
            "Digite un número: 3\n",
            "El número digitado es impar\n"
          ]
        }
      ]
    },
    {
      "cell_type": "markdown",
      "source": [
        "5.Determinar el número mayorEscribe un programa en Pythonque solicite al usuario ingresar cinco números y luego determine e imprima cuál de los cinco números es mayor uDlizando estructurasselecDvasdoble (if -else)\n",
        "\n",
        "\n",
        "\n"
      ],
      "metadata": {
        "id": "8cVKFmMMmFpn"
      }
    },
    {
      "cell_type": "code",
      "source": [
        "\n",
        "\n",
        "#Programa que dependiendo de los 5 datos que se ingresen, nos dice cual es el mayor\n",
        "\n",
        "number1 = float(input(\"Ingrese el primer número: \"))\n",
        "number2 = float(input(\"Ingrese el segundo número: \"))\n",
        "number3 = float(input(\"Ingrese el tercer número: \"))\n",
        "number4 = float(input(\"Ingrese el cuarto número: \"))\n",
        "number5 = float(input(\"Ingrese el quinto número: \"))\n",
        "\n",
        "if number1 >= number2 and number1 >= number3 and number1 >= number4 and number1 >= number5:\n",
        "    mayor = number1\n",
        "if number2 >= number1 and number2 >= number3 and number2 >= number4 and number2 >= number5:\n",
        "    mayor = number2\n",
        "if number3 >= number1 and number3 >= number2 and number3 >= number4 and number3 >= number5:\n",
        "    mayor = number3\n",
        "if number4 >= number1 and number4 >= number2 and number4>= number3 and number4 >= number5:\n",
        "    mayor = number4\n",
        "else:\n",
        "    mayor = number5\n",
        "\n",
        "#escribir el número mayor\n",
        "print(\"  \")\n",
        "print(\"De los 5 numeros digitados, el número mayor es:\", mayor)"
      ],
      "metadata": {
        "id": "Sx_BRIHfmF2Q",
        "outputId": "eadfc57a-4fe3-4cc8-9070-30232c58118e",
        "colab": {
          "base_uri": "https://localhost:8080/"
        }
      },
      "execution_count": 8,
      "outputs": [
        {
          "output_type": "stream",
          "name": "stdout",
          "text": [
            "Ingrese el primer número: 1\n",
            "Ingrese el segundo número: 1\n",
            "Ingrese el tercer número: 1\n",
            "Ingrese el cuarto número: 1\n",
            "Ingrese el quinto número: 1\n",
            "  \n",
            "De los 5 numeros digitados, el número mayor es: 1.0\n"
          ]
        }
      ]
    },
    {
      "cell_type": "markdown",
      "source": [
        "6.Categorizar edadesEscribe un programa en Pythonque solicite al usuario ingresar una edad y determine e imprima en qué  categoría  se  encuentra  la  persona:  \"Niño\"  (0-12  años),  \"Adolescente\"  (13-19  años),  \"Adulto\" (20-64 años) o \"Adulto Mayor\" (65 o más años)"
      ],
      "metadata": {
        "id": "Db33_23vmP6p"
      }
    },
    {
      "cell_type": "code",
      "source": [
        "#Programa que me categoriza a las personas dependiendo la edad digitada\n",
        "\n",
        "old = int(input(\"Ingrese una edad: \"))\n",
        "\n",
        "if 0 <= old <= 12:\n",
        "    categoria = \"Niño\"\n",
        "if 13 <= old <= 19:\n",
        "    categoria = \"Adolescente\"\n",
        "if 20 <= old <= 64:\n",
        "    categoria = \"Adulto\"\n",
        "else:\n",
        "    categoria = \"Adulto Mayor\"\n",
        "\n",
        "print(\"Con la edad digitada, la persona esta categorizada como: \", categoria)\n",
        "\n",
        "\n"
      ],
      "metadata": {
        "colab": {
          "base_uri": "https://localhost:8080/"
        },
        "id": "Hf_Uku_cmQCg",
        "outputId": "ffa3b45c-bc48-4290-e306-d101c7c14a34"
      },
      "execution_count": 7,
      "outputs": [
        {
          "output_type": "stream",
          "name": "stdout",
          "text": [
            "Ingrese una edad: 2\n",
            "Con la edad digitada, la persona esta categorizada como:  Adulto Mayor\n"
          ]
        }
      ]
    }
  ]
}